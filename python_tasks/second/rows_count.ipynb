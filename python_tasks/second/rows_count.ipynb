{
 "cells": [
  {
   "cell_type": "markdown",
   "id": "e5280d8e",
   "metadata": {},
   "source": [
    "### Задание 2.\n",
    "Напишите Python-скрипт, который принимает путь к большому CSV-файлу и подсчитывает количество строк (записей) в файле без загрузки его целиком в память. Скрипт должен быть оптимизирован для работы с большими файлами."
   ]
  },
  {
   "cell_type": "markdown",
   "id": "30271665",
   "metadata": {},
   "source": [
    "**Решение 1.** С помощью простого построчного чтения файла"
   ]
  },
  {
   "cell_type": "code",
   "execution_count": 4,
   "id": "fd28b6fd",
   "metadata": {},
   "outputs": [
    {
     "name": "stdout",
     "output_type": "stream",
     "text": [
      "375142\n"
     ]
    }
   ],
   "source": [
    "count = 0\n",
    "with open('input.csv', 'r', encoding='utf-8') as file:\n",
    "    for line in file:\n",
    "        count += 1\n",
    "        \n",
    "print(count)"
   ]
  },
  {
   "cell_type": "markdown",
   "id": "a4883345",
   "metadata": {},
   "source": [
    "\n",
    "**Решение 2.** С помощью библиотеки csv и обработчика csv файлов - csv.reader"
   ]
  },
  {
   "cell_type": "code",
   "execution_count": null,
   "id": "b529b80b",
   "metadata": {},
   "outputs": [
    {
     "name": "stdout",
     "output_type": "stream",
     "text": [
      "375142\n"
     ]
    }
   ],
   "source": [
    "import csv\n",
    "\n",
    "with open('input.csv', 'r', encoding='utf-8') as file:\n",
    "    reader = csv.reader(file)\n",
    "    count = sum(1 for row in reader)  # Подсчет строк\n",
    "    print(count)"
   ]
  },
  {
   "cell_type": "markdown",
   "id": "d93a700b",
   "metadata": {},
   "source": [
    "**Первое решение** выполняется быстрее **второго**: `0.4s` против `2.9s` для моего файла размером 375142 строк. Это логично, т.к. функция `csv.reader` дополнительно обрабатывает csv файл, разделяет по запятым и пр. Поэтому оставим **решение 1**.\n",
    "\n",
    "P.s. Если по заданию требовалось бы загружать весь файл целиком и при этом оптимизировать эту загрузку для больших файлов, можно было бы:\n",
    "- использовать загрузку по частям (`chunks`) в `pandas`;\n",
    "- использовать библиотеку `dask` для распределенных вычислений и параллельной обработки данных на нескольких ядрах или серверах."
   ]
  }
 ],
 "metadata": {
  "kernelspec": {
   "display_name": "Python 3",
   "language": "python",
   "name": "python3"
  },
  "language_info": {
   "codemirror_mode": {
    "name": "ipython",
    "version": 3
   },
   "file_extension": ".py",
   "mimetype": "text/x-python",
   "name": "python",
   "nbconvert_exporter": "python",
   "pygments_lexer": "ipython3",
   "version": "3.11.0"
  }
 },
 "nbformat": 4,
 "nbformat_minor": 5
}
