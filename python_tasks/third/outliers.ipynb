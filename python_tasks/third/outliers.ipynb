{
 "cells": [
  {
   "cell_type": "markdown",
   "id": "fccac0bf",
   "metadata": {},
   "source": [
    "### Задание 3. Выбросы\n",
    "Напишите функцию, которая принимает список чисел и возвращает все значения, которые являются **выбросами**. \n",
    "\n",
    "**Выбросы** определяются как значения, которые находятся ниже `Q1 - 1.5 * IQR` или выше `Q3 + 1.5 * IQR`, где `Q1` и `Q3` - первый и третий квартиль, `IQR` = `Q3-Q1` — **межквартильный размах**. "
   ]
  },
  {
   "cell_type": "code",
   "execution_count": null,
   "id": "c3399f04",
   "metadata": {},
   "outputs": [
    {
     "data": {
      "text/plain": [
       "[-61, 1, 1, 2, 3, 3, 4, 4, 5, 5, 6, 100]"
      ]
     },
     "execution_count": 6,
     "metadata": {},
     "output_type": "execute_result"
    }
   ],
   "source": [
    "import numpy as np\n",
    "\n",
    "my_list = [1, 4, 1, -61, 2, 3, 3, 4, 5, 5, 6, 100]\n",
    "\n",
    "# Сортируем список\n",
    "my_list = sorted(my_list)\n",
    "\n",
    "# Считаем квартили и межквартильный размах\n",
    "q1 = np.quantile(my_list, 0.25)  # первый квартиль\n",
    "q3 = np.quantile(my_list, 0.75)  # третий квартиль\n",
    "iqr = q3-q1  # межквартильный размах\n",
    "\n",
    "# Считаем выбросы\n",
    "outliers = []\n",
    "for i in my_list:\n",
    "    if i < (q1 - 1.5 * iqr) or i > (q3 + 1.5 * iqr):\n",
    "        outliers.append(i)\n",
    "\n",
    "outliers"
   ]
  }
 ],
 "metadata": {
  "kernelspec": {
   "display_name": "Python 3",
   "language": "python",
   "name": "python3"
  },
  "language_info": {
   "codemirror_mode": {
    "name": "ipython",
    "version": 3
   },
   "file_extension": ".py",
   "mimetype": "text/x-python",
   "name": "python",
   "nbconvert_exporter": "python",
   "pygments_lexer": "ipython3",
   "version": "3.11.0"
  }
 },
 "nbformat": 4,
 "nbformat_minor": 5
}
