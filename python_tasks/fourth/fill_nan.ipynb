{
 "cells": [
  {
   "cell_type": "markdown",
   "id": "637e6e9d",
   "metadata": {},
   "source": [
    "### Задание 4.\n",
    "Напишите функцию, которая принимает DataFrame и заменяет отсутствующие значения (NaN) в каждом числовом столбце на более подходящие значения (здесь стоит использовать группировки по нескольким столбцам, чтобы получить наиболее реалистичные данные). Если столбец содержит только NaN, оставьте его без изменений."
   ]
  },
  {
   "cell_type": "code",
   "execution_count": null,
   "id": "5f1f7bb8",
   "metadata": {},
   "outputs": [
    {
     "name": "stdout",
     "output_type": "stream",
     "text": [
      "     name         city sex   age  height  weight score\n",
      "0  Xavier  Mexico City   M  41.0   178.0    80.0  None\n",
      "1     Ann      Toronto   F   NaN   164.0    52.0  None\n",
      "2    Jana       Prague   F  33.0   172.0     NaN  None\n",
      "3      Yi     Shanghai   M  34.0     NaN    61.0  None\n",
      "4   Robin   Manchester   F   NaN     NaN    62.0  None\n"
     ]
    }
   ],
   "source": [
    "import pandas as pd\n",
    "\n",
    "data = {\n",
    "    'name': ['Xavier', 'Ann', 'Jana', 'Yi', 'Robin', 'Amal', 'Nori'],\n",
    "    'city': ['Mexico City', 'Toronto', 'Prague', 'Shanghai', 'Manchester', 'Cairo', 'Osaka'],\n",
    "    'sex': ['M', 'F', 'F', 'M', 'F', 'M', 'M'],\n",
    "    'age': [41, None, 33, 34, None, 31, 37],\n",
    "    'height': [178, 164, 172, None, None, 180, 195],\n",
    "    'weight': [80, 52, None, 61, 62, 73, None],\n",
    "    'score': [None, None, None, None, None, None, None],\n",
    "}\n",
    "\n",
    "df = pd.DataFrame(data)\n",
    "df"
   ]
  },
  {
   "cell_type": "code",
   "execution_count": 53,
   "id": "87bcb7a6",
   "metadata": {},
   "outputs": [
    {
     "data": {
      "text/plain": [
       "name       object\n",
       "city       object\n",
       "sex        object\n",
       "age       float64\n",
       "height    float64\n",
       "weight    float64\n",
       "score      object\n",
       "dtype: object"
      ]
     },
     "execution_count": 53,
     "metadata": {},
     "output_type": "execute_result"
    }
   ],
   "source": [
    "df.dtypes"
   ]
  },
  {
   "cell_type": "code",
   "execution_count": null,
   "id": "b41a3c2b",
   "metadata": {},
   "outputs": [
    {
     "data": {
      "text/plain": [
       "Index(['age', 'height', 'weight'], dtype='object')"
      ]
     },
     "execution_count": 54,
     "metadata": {},
     "output_type": "execute_result"
    }
   ],
   "source": [
    "# Скопируем изначальный датафрейм\n",
    "df_copy = df.copy()\n",
    "\n",
    "# Ищем целочисленные столбцы\n",
    "numeric_cols = df_copy.select_dtypes('number').columns\n",
    "numeric_cols"
   ]
  },
  {
   "cell_type": "markdown",
   "id": "dbf9f50a",
   "metadata": {},
   "source": [
    "**Решение 1** - без группировки"
   ]
  },
  {
   "cell_type": "markdown",
   "id": "ca682374",
   "metadata": {},
   "source": [
    "Заполним пустые значения **средними значениями** по столбцу. \n",
    "\n",
    "Вместо функции `mean` можно использовать, например, `median` или `mode` в зависимости от того, что больше подходит."
   ]
  },
  {
   "cell_type": "code",
   "execution_count": null,
   "id": "ceaff43f",
   "metadata": {},
   "outputs": [
    {
     "data": {
      "text/html": [
       "<div>\n",
       "<style scoped>\n",
       "    .dataframe tbody tr th:only-of-type {\n",
       "        vertical-align: middle;\n",
       "    }\n",
       "\n",
       "    .dataframe tbody tr th {\n",
       "        vertical-align: top;\n",
       "    }\n",
       "\n",
       "    .dataframe thead th {\n",
       "        text-align: right;\n",
       "    }\n",
       "</style>\n",
       "<table border=\"1\" class=\"dataframe\">\n",
       "  <thead>\n",
       "    <tr style=\"text-align: right;\">\n",
       "      <th></th>\n",
       "      <th>name</th>\n",
       "      <th>city</th>\n",
       "      <th>sex</th>\n",
       "      <th>age</th>\n",
       "      <th>height</th>\n",
       "      <th>weight</th>\n",
       "      <th>score</th>\n",
       "    </tr>\n",
       "  </thead>\n",
       "  <tbody>\n",
       "    <tr>\n",
       "      <th>0</th>\n",
       "      <td>Xavier</td>\n",
       "      <td>Mexico City</td>\n",
       "      <td>M</td>\n",
       "      <td>41.0</td>\n",
       "      <td>178.0</td>\n",
       "      <td>80.0</td>\n",
       "      <td>None</td>\n",
       "    </tr>\n",
       "    <tr>\n",
       "      <th>1</th>\n",
       "      <td>Ann</td>\n",
       "      <td>Toronto</td>\n",
       "      <td>F</td>\n",
       "      <td>35.2</td>\n",
       "      <td>164.0</td>\n",
       "      <td>52.0</td>\n",
       "      <td>None</td>\n",
       "    </tr>\n",
       "    <tr>\n",
       "      <th>2</th>\n",
       "      <td>Jana</td>\n",
       "      <td>Prague</td>\n",
       "      <td>F</td>\n",
       "      <td>33.0</td>\n",
       "      <td>172.0</td>\n",
       "      <td>65.6</td>\n",
       "      <td>None</td>\n",
       "    </tr>\n",
       "    <tr>\n",
       "      <th>3</th>\n",
       "      <td>Yi</td>\n",
       "      <td>Shanghai</td>\n",
       "      <td>M</td>\n",
       "      <td>34.0</td>\n",
       "      <td>177.8</td>\n",
       "      <td>61.0</td>\n",
       "      <td>None</td>\n",
       "    </tr>\n",
       "    <tr>\n",
       "      <th>4</th>\n",
       "      <td>Robin</td>\n",
       "      <td>Manchester</td>\n",
       "      <td>F</td>\n",
       "      <td>35.2</td>\n",
       "      <td>177.8</td>\n",
       "      <td>62.0</td>\n",
       "      <td>None</td>\n",
       "    </tr>\n",
       "    <tr>\n",
       "      <th>5</th>\n",
       "      <td>Amal</td>\n",
       "      <td>Cairo</td>\n",
       "      <td>M</td>\n",
       "      <td>31.0</td>\n",
       "      <td>180.0</td>\n",
       "      <td>73.0</td>\n",
       "      <td>None</td>\n",
       "    </tr>\n",
       "    <tr>\n",
       "      <th>6</th>\n",
       "      <td>Nori</td>\n",
       "      <td>Osaka</td>\n",
       "      <td>M</td>\n",
       "      <td>37.0</td>\n",
       "      <td>195.0</td>\n",
       "      <td>65.6</td>\n",
       "      <td>None</td>\n",
       "    </tr>\n",
       "  </tbody>\n",
       "</table>\n",
       "</div>"
      ],
      "text/plain": [
       "     name         city sex   age  height  weight score\n",
       "0  Xavier  Mexico City   M  41.0   178.0    80.0  None\n",
       "1     Ann      Toronto   F  35.2   164.0    52.0  None\n",
       "2    Jana       Prague   F  33.0   172.0    65.6  None\n",
       "3      Yi     Shanghai   M  34.0   177.8    61.0  None\n",
       "4   Robin   Manchester   F  35.2   177.8    62.0  None\n",
       "5    Amal        Cairo   M  31.0   180.0    73.0  None\n",
       "6    Nori        Osaka   M  37.0   195.0    65.6  None"
      ]
     },
     "execution_count": 55,
     "metadata": {},
     "output_type": "execute_result"
    }
   ],
   "source": [
    "df_copy[numeric_cols] = df_copy[numeric_cols].fillna(df_copy[numeric_cols].mean())\n",
    "df_copy"
   ]
  },
  {
   "cell_type": "markdown",
   "id": "0fd4498d",
   "metadata": {},
   "source": [
    "**Решение 2** - с группировкой по списку, переданному в функцию"
   ]
  },
  {
   "cell_type": "code",
   "execution_count": 72,
   "id": "64cb3b5e",
   "metadata": {},
   "outputs": [],
   "source": [
    "# Введем столбцы для группировки\n",
    "group_cols = ['sex']\n",
    "\n",
    "# Скопируем изначальный датафрейм еще раз\n",
    "df_copy = df.copy()"
   ]
  },
  {
   "cell_type": "markdown",
   "id": "dcca1464",
   "metadata": {},
   "source": [
    "Заполняем пустые ячейки средними значениями, используя группировку по столбцам `group_cols`.\n",
    "\n",
    "Рашифровка строчки: \n",
    "1. Группируем по столбцам `group_cols`, \n",
    "2. Для каждой группы и соответствующего столбца из `numeric_cols` вычисляем среднее (применяем `'mean'` с помощью `transform()`), \n",
    "3. Заполняем пустые значения в столбцах `numeric_cols` этим средним значением\n"
   ]
  },
  {
   "cell_type": "code",
   "execution_count": 73,
   "id": "edd5c28a",
   "metadata": {},
   "outputs": [
    {
     "data": {
      "text/html": [
       "<div>\n",
       "<style scoped>\n",
       "    .dataframe tbody tr th:only-of-type {\n",
       "        vertical-align: middle;\n",
       "    }\n",
       "\n",
       "    .dataframe tbody tr th {\n",
       "        vertical-align: top;\n",
       "    }\n",
       "\n",
       "    .dataframe thead th {\n",
       "        text-align: right;\n",
       "    }\n",
       "</style>\n",
       "<table border=\"1\" class=\"dataframe\">\n",
       "  <thead>\n",
       "    <tr style=\"text-align: right;\">\n",
       "      <th></th>\n",
       "      <th>name</th>\n",
       "      <th>city</th>\n",
       "      <th>sex</th>\n",
       "      <th>age</th>\n",
       "      <th>height</th>\n",
       "      <th>weight</th>\n",
       "      <th>score</th>\n",
       "    </tr>\n",
       "  </thead>\n",
       "  <tbody>\n",
       "    <tr>\n",
       "      <th>0</th>\n",
       "      <td>Xavier</td>\n",
       "      <td>Mexico City</td>\n",
       "      <td>M</td>\n",
       "      <td>41.0</td>\n",
       "      <td>178.000000</td>\n",
       "      <td>80.000000</td>\n",
       "      <td>None</td>\n",
       "    </tr>\n",
       "    <tr>\n",
       "      <th>1</th>\n",
       "      <td>Ann</td>\n",
       "      <td>Toronto</td>\n",
       "      <td>F</td>\n",
       "      <td>33.0</td>\n",
       "      <td>164.000000</td>\n",
       "      <td>52.000000</td>\n",
       "      <td>None</td>\n",
       "    </tr>\n",
       "    <tr>\n",
       "      <th>2</th>\n",
       "      <td>Jana</td>\n",
       "      <td>Prague</td>\n",
       "      <td>F</td>\n",
       "      <td>33.0</td>\n",
       "      <td>172.000000</td>\n",
       "      <td>57.000000</td>\n",
       "      <td>None</td>\n",
       "    </tr>\n",
       "    <tr>\n",
       "      <th>3</th>\n",
       "      <td>Yi</td>\n",
       "      <td>Shanghai</td>\n",
       "      <td>M</td>\n",
       "      <td>34.0</td>\n",
       "      <td>184.333333</td>\n",
       "      <td>61.000000</td>\n",
       "      <td>None</td>\n",
       "    </tr>\n",
       "    <tr>\n",
       "      <th>4</th>\n",
       "      <td>Robin</td>\n",
       "      <td>Manchester</td>\n",
       "      <td>F</td>\n",
       "      <td>33.0</td>\n",
       "      <td>168.000000</td>\n",
       "      <td>62.000000</td>\n",
       "      <td>None</td>\n",
       "    </tr>\n",
       "    <tr>\n",
       "      <th>5</th>\n",
       "      <td>Amal</td>\n",
       "      <td>Cairo</td>\n",
       "      <td>M</td>\n",
       "      <td>31.0</td>\n",
       "      <td>180.000000</td>\n",
       "      <td>73.000000</td>\n",
       "      <td>None</td>\n",
       "    </tr>\n",
       "    <tr>\n",
       "      <th>6</th>\n",
       "      <td>Nori</td>\n",
       "      <td>Osaka</td>\n",
       "      <td>M</td>\n",
       "      <td>37.0</td>\n",
       "      <td>195.000000</td>\n",
       "      <td>71.333333</td>\n",
       "      <td>None</td>\n",
       "    </tr>\n",
       "  </tbody>\n",
       "</table>\n",
       "</div>"
      ],
      "text/plain": [
       "     name         city sex   age      height     weight score\n",
       "0  Xavier  Mexico City   M  41.0  178.000000  80.000000  None\n",
       "1     Ann      Toronto   F  33.0  164.000000  52.000000  None\n",
       "2    Jana       Prague   F  33.0  172.000000  57.000000  None\n",
       "3      Yi     Shanghai   M  34.0  184.333333  61.000000  None\n",
       "4   Robin   Manchester   F  33.0  168.000000  62.000000  None\n",
       "5    Amal        Cairo   M  31.0  180.000000  73.000000  None\n",
       "6    Nori        Osaka   M  37.0  195.000000  71.333333  None"
      ]
     },
     "execution_count": 73,
     "metadata": {},
     "output_type": "execute_result"
    }
   ],
   "source": [
    "df_copy[numeric_cols] = df_copy[numeric_cols].fillna(df_copy.groupby(group_cols)[numeric_cols].transform('mean'))\n",
    "df_copy"
   ]
  }
 ],
 "metadata": {
  "kernelspec": {
   "display_name": "Python 3",
   "language": "python",
   "name": "python3"
  },
  "language_info": {
   "codemirror_mode": {
    "name": "ipython",
    "version": 3
   },
   "file_extension": ".py",
   "mimetype": "text/x-python",
   "name": "python",
   "nbconvert_exporter": "python",
   "pygments_lexer": "ipython3",
   "version": "3.11.0"
  }
 },
 "nbformat": 4,
 "nbformat_minor": 5
}
