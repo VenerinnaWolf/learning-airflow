{
 "cells": [
  {
   "cell_type": "markdown",
   "id": "eb889c67",
   "metadata": {},
   "source": [
    "**Задание 1. Напишите функцию, которая принимает DataFrame и возвращает имена двух столбцов с наибольшей положительной корреляцией**\n",
    "\n",
    "*Этот блокнот объясняет действие функции и ее составляющих (В основном это нужно для меня самой)*\n",
    "\n",
    "Посмотрим на **датафрейм**, который мы будем обрабатывать:"
   ]
  },
  {
   "cell_type": "code",
   "execution_count": 69,
   "id": "6c51dc5f",
   "metadata": {},
   "outputs": [
    {
     "data": {
      "text/html": [
       "<div>\n",
       "<style scoped>\n",
       "    .dataframe tbody tr th:only-of-type {\n",
       "        vertical-align: middle;\n",
       "    }\n",
       "\n",
       "    .dataframe tbody tr th {\n",
       "        vertical-align: top;\n",
       "    }\n",
       "\n",
       "    .dataframe thead th {\n",
       "        text-align: right;\n",
       "    }\n",
       "</style>\n",
       "<table border=\"1\" class=\"dataframe\">\n",
       "  <thead>\n",
       "    <tr style=\"text-align: right;\">\n",
       "      <th></th>\n",
       "      <th>Region</th>\n",
       "      <th>Sales</th>\n",
       "      <th>Advertising</th>\n",
       "    </tr>\n",
       "  </thead>\n",
       "  <tbody>\n",
       "    <tr>\n",
       "      <th>0</th>\n",
       "      <td>2</td>\n",
       "      <td>200</td>\n",
       "      <td>50</td>\n",
       "    </tr>\n",
       "    <tr>\n",
       "      <th>1</th>\n",
       "      <td>1</td>\n",
       "      <td>150</td>\n",
       "      <td>40</td>\n",
       "    </tr>\n",
       "    <tr>\n",
       "      <th>2</th>\n",
       "      <td>3</td>\n",
       "      <td>300</td>\n",
       "      <td>70</td>\n",
       "    </tr>\n",
       "    <tr>\n",
       "      <th>3</th>\n",
       "      <td>1</td>\n",
       "      <td>250</td>\n",
       "      <td>60</td>\n",
       "    </tr>\n",
       "  </tbody>\n",
       "</table>\n",
       "</div>"
      ],
      "text/plain": [
       "   Region  Sales  Advertising\n",
       "0       2    200           50\n",
       "1       1    150           40\n",
       "2       3    300           70\n",
       "3       1    250           60"
      ]
     },
     "execution_count": 69,
     "metadata": {},
     "output_type": "execute_result"
    }
   ],
   "source": [
    "import pandas as pd\n",
    "\n",
    "data = {\n",
    "    'Region': [2, 1, 3, 1],\n",
    "    'Sales': [200, 150, 300, 250],\n",
    "    'Advertising': [50, 40, 70, 60]\n",
    "}\n",
    "\n",
    "df = pd.DataFrame(data)\n",
    "df"
   ]
  },
  {
   "cell_type": "markdown",
   "id": "30e68724",
   "metadata": {},
   "source": [
    "Считаем **матрицу корреляций** Пирсона:"
   ]
  },
  {
   "cell_type": "code",
   "execution_count": 70,
   "id": "e70f4fbf",
   "metadata": {},
   "outputs": [
    {
     "data": {
      "text/html": [
       "<div>\n",
       "<style scoped>\n",
       "    .dataframe tbody tr th:only-of-type {\n",
       "        vertical-align: middle;\n",
       "    }\n",
       "\n",
       "    .dataframe tbody tr th {\n",
       "        vertical-align: top;\n",
       "    }\n",
       "\n",
       "    .dataframe thead th {\n",
       "        text-align: right;\n",
       "    }\n",
       "</style>\n",
       "<table border=\"1\" class=\"dataframe\">\n",
       "  <thead>\n",
       "    <tr style=\"text-align: right;\">\n",
       "      <th></th>\n",
       "      <th>Region</th>\n",
       "      <th>Sales</th>\n",
       "      <th>Advertising</th>\n",
       "    </tr>\n",
       "  </thead>\n",
       "  <tbody>\n",
       "    <tr>\n",
       "      <th>Region</th>\n",
       "      <td>1.0000</td>\n",
       "      <td>0.6742</td>\n",
       "      <td>0.6742</td>\n",
       "    </tr>\n",
       "    <tr>\n",
       "      <th>Sales</th>\n",
       "      <td>0.6742</td>\n",
       "      <td>1.0000</td>\n",
       "      <td>1.0000</td>\n",
       "    </tr>\n",
       "    <tr>\n",
       "      <th>Advertising</th>\n",
       "      <td>0.6742</td>\n",
       "      <td>1.0000</td>\n",
       "      <td>1.0000</td>\n",
       "    </tr>\n",
       "  </tbody>\n",
       "</table>\n",
       "</div>"
      ],
      "text/plain": [
       "             Region   Sales  Advertising\n",
       "Region       1.0000  0.6742       0.6742\n",
       "Sales        0.6742  1.0000       1.0000\n",
       "Advertising  0.6742  1.0000       1.0000"
      ]
     },
     "execution_count": 70,
     "metadata": {},
     "output_type": "execute_result"
    }
   ],
   "source": [
    "corr_mat = df.corr()\n",
    "corr_mat"
   ]
  },
  {
   "cell_type": "markdown",
   "id": "5abf5bb6",
   "metadata": {},
   "source": [
    "С помощью `.shape` можно получить измерения датафрейма (количество строк, столбцов и т.д, если измерений больше 2). "
   ]
  },
  {
   "cell_type": "code",
   "execution_count": 72,
   "id": "3038a4b3",
   "metadata": {},
   "outputs": [
    {
     "data": {
      "text/plain": [
       "(3, 3)"
      ]
     },
     "execution_count": 72,
     "metadata": {},
     "output_type": "execute_result"
    }
   ],
   "source": [
    "corr_mat.shape"
   ]
  },
  {
   "cell_type": "markdown",
   "id": "be1ac6b9",
   "metadata": {},
   "source": [
    "Как можно заметить, матрица квадратная, симметричная и с единицами на диагонали. Мы будем брать из нее нижний треугольник для поиска максимальных положительных корреляций. \n",
    "\n",
    "*Пояснения:*\n",
    "- `corr_mat.shape[0]` - **количество** строк/столбцов в матрице\n",
    "  \n",
    "- Корреляционная матрица является датафреймом, в котором есть **столбцы** с **названиями**: 'Region', 'Sales', 'Advertising' и **строки** с **индексами** (тоже **названиями**): 'Region', 'Sales', 'Advertising'. \n",
    "\n",
    "  При этом с помощью `.iloc` можно обращаться не к **названиям**, а к их **номерам**: 0, 1, 2. Это работает как для **строк**, так и для **столбцов**.\n",
    "\n",
    "- `row` - **номер строки** матрицы (в контексте датафрейма - **номер индекса** строки)\n",
    "- `col` - **номер столбца** матрицы\n",
    "- `corr_mat.iloc[row, col]` - значение **корреляции** для строки `row` и столбца `col`\n",
    "\n",
    "Вот так можно просто перебрать элементы в нижнем треугольнике:"
   ]
  },
  {
   "cell_type": "code",
   "execution_count": null,
   "id": "4c8e554e",
   "metadata": {},
   "outputs": [
    {
     "name": "stdout",
     "output_type": "stream",
     "text": [
      "0.674199862463242\n",
      "0.6741998624632421\n",
      "1.0\n"
     ]
    }
   ],
   "source": [
    "for row in range(corr_mat.shape[0]):\n",
    "    for col in range(row):\n",
    "        print(corr_mat.iloc[row, col])"
   ]
  },
  {
   "cell_type": "markdown",
   "id": "f2e092f1",
   "metadata": {},
   "source": [
    "Запишем эти значения вместе с названиями строк и столбцов в отдельную переменную. Используем для этого генератор списков (list comprehension)\n",
    "\n",
    "- В переменной `corrs` бедет лежать список кортежей по три элемента: значение корреляции, название строки и название столбца, для которых была высчитана эта корреляция. (`corr_mat.columns[row]` и `corr_mat.columns[col]` - **названия** строк и столбцов в датафрейме с **номерами** `row` и `col`)\n",
    "\n",
    "- `row` и `col` перебираются в нижнем треугольнике матрицы"
   ]
  },
  {
   "cell_type": "code",
   "execution_count": null,
   "id": "bc72abf9",
   "metadata": {},
   "outputs": [
    {
     "data": {
      "text/plain": [
       "[(np.float64(0.674199862463242), 'Sales', 'Region'),\n",
       " (np.float64(0.6741998624632421), 'Advertising', 'Region'),\n",
       " (np.float64(1.0), 'Advertising', 'Sales')]"
      ]
     },
     "execution_count": 76,
     "metadata": {},
     "output_type": "execute_result"
    }
   ],
   "source": [
    "corrs = [\n",
    "    (corr_mat.iloc[row, col], corr_mat.columns[row], corr_mat.columns[col]) \n",
    "    for row in range(corr_mat.shape[0]) for col in range(row)  # нижний треугольник\n",
    "]\n",
    "corrs"
   ]
  },
  {
   "cell_type": "markdown",
   "id": "6a1cff98",
   "metadata": {},
   "source": [
    "Теперь находим из этого списка кортежей - кортеж с **максимальным** значением корреляции. \n",
    "- Параметр `key=` в функции `max()` отвечает за ключ, по которому мы ищем максимальное значение. В данном случае, мы ищем по первым элементам кортежа - значению корреляции, т.е. `x[0]` в лямбда-функции\n",
    "\n",
    "Для получения только **названий строк**, сделаем срез кортежа `[1:]`"
   ]
  },
  {
   "cell_type": "code",
   "execution_count": 79,
   "id": "0e950d29",
   "metadata": {},
   "outputs": [
    {
     "name": "stdout",
     "output_type": "stream",
     "text": [
      "(np.float64(1.0), 'Advertising', 'Sales')\n",
      "('Advertising', 'Sales')\n"
     ]
    }
   ],
   "source": [
    "max_correlation = max(corrs, key=lambda x: x[0])\n",
    "print(max_correlation)\n",
    "print(max_correlation[1:])"
   ]
  },
  {
   "cell_type": "markdown",
   "id": "c23912ea",
   "metadata": {},
   "source": [
    "Итого получили функцию:"
   ]
  },
  {
   "cell_type": "code",
   "execution_count": null,
   "id": "2b7fd6e5",
   "metadata": {},
   "outputs": [
    {
     "data": {
      "text/plain": [
       "('Advertising', 'Sales')"
      ]
     },
     "execution_count": 80,
     "metadata": {},
     "output_type": "execute_result"
    }
   ],
   "source": [
    "def get_highest_correlation(df: pd.DataFrame) -> tuple:\n",
    "    \"\"\"Возвращает имена двух столбцов с наибольшей положительной корреляцией для датафрейма\"\"\"\n",
    "    # Вычисляем корреляционную матрицу по методу Пирсона:\n",
    "    corr_mat = df.corr()\n",
    "\n",
    "    # Запишем все корреляции из нижнего треугольника матрицы (с названиями строк и столбцов)\n",
    "    corrs = [\n",
    "        (corr_mat.iloc[row, col], corr_mat.columns[row], corr_mat.columns[col]) \n",
    "        for row in range(corr_mat.shape[0]) for col in range(row)  # нижний треугольник\n",
    "    ]\n",
    "\n",
    "    # Найдем наибольший элемент из полученных корреляций и возвращаем только названия столбцов:\n",
    "    return max(corrs, key=lambda x: x[0])[1:]\n",
    "\n",
    "get_highest_correlation(df)"
   ]
  }
 ],
 "metadata": {
  "kernelspec": {
   "display_name": "Python 3",
   "language": "python",
   "name": "python3"
  },
  "language_info": {
   "codemirror_mode": {
    "name": "ipython",
    "version": 3
   },
   "file_extension": ".py",
   "mimetype": "text/x-python",
   "name": "python",
   "nbconvert_exporter": "python",
   "pygments_lexer": "ipython3",
   "version": "3.11.0"
  }
 },
 "nbformat": 4,
 "nbformat_minor": 5
}
