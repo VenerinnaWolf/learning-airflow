{
 "cells": [
  {
   "cell_type": "code",
   "execution_count": 7,
   "id": "b00af301",
   "metadata": {},
   "outputs": [],
   "source": [
    "# Подключаем библиотеки\n",
    "import pandas as pd\n",
    "import os\n",
    "from deltalake import DeltaTable\n",
    "from deltalake.writer import write_deltalake"
   ]
  },
  {
   "cell_type": "code",
   "execution_count": 8,
   "id": "551debe5",
   "metadata": {},
   "outputs": [],
   "source": [
    "# Путь до папки, где лежат все delta lake таблицы\n",
    "PATH_TO_DELTA_TABLES = \"output/delta_tables\"\n",
    "path_to_test_table = os.path.join(PATH_TO_DELTA_TABLES, 'test_table')"
   ]
  },
  {
   "cell_type": "code",
   "execution_count": 9,
   "id": "27065aff",
   "metadata": {},
   "outputs": [
    {
     "data": {
      "text/html": [
       "<div>\n",
       "<style scoped>\n",
       "    .dataframe tbody tr th:only-of-type {\n",
       "        vertical-align: middle;\n",
       "    }\n",
       "\n",
       "    .dataframe tbody tr th {\n",
       "        vertical-align: top;\n",
       "    }\n",
       "\n",
       "    .dataframe thead th {\n",
       "        text-align: right;\n",
       "    }\n",
       "</style>\n",
       "<table border=\"1\" class=\"dataframe\">\n",
       "  <thead>\n",
       "    <tr style=\"text-align: right;\">\n",
       "      <th></th>\n",
       "      <th>x</th>\n",
       "    </tr>\n",
       "  </thead>\n",
       "  <tbody>\n",
       "    <tr>\n",
       "      <th>0</th>\n",
       "      <td>1</td>\n",
       "    </tr>\n",
       "    <tr>\n",
       "      <th>1</th>\n",
       "      <td>2</td>\n",
       "    </tr>\n",
       "    <tr>\n",
       "      <th>2</th>\n",
       "      <td>3</td>\n",
       "    </tr>\n",
       "  </tbody>\n",
       "</table>\n",
       "</div>"
      ],
      "text/plain": [
       "   x\n",
       "0  1\n",
       "1  2\n",
       "2  3"
      ]
     },
     "execution_count": 9,
     "metadata": {},
     "output_type": "execute_result"
    }
   ],
   "source": [
    "# Создадим рандомный датафрейм\n",
    "df = pd.DataFrame({\"x\": [1, 2, 3]})\n",
    "df"
   ]
  },
  {
   "cell_type": "code",
   "execution_count": 10,
   "id": "6ddf8afe",
   "metadata": {},
   "outputs": [
    {
     "ename": "DeltaError",
     "evalue": "Generic error: A table already exists at: C:/Users/vzelikova/learning/airflow/dags/third/output/delta_tables/test_table/",
     "output_type": "error",
     "traceback": [
      "\u001b[1;31m---------------------------------------------------------------------------\u001b[0m",
      "\u001b[1;31mDeltaError\u001b[0m                                Traceback (most recent call last)",
      "Cell \u001b[1;32mIn[10], line 2\u001b[0m\n\u001b[0;32m      1\u001b[0m \u001b[38;5;66;03m# Запишем df в delta lake файл\u001b[39;00m\n\u001b[1;32m----> 2\u001b[0m \u001b[43mwrite_deltalake\u001b[49m\u001b[43m(\u001b[49m\u001b[43mpath_to_test_table\u001b[49m\u001b[43m,\u001b[49m\u001b[43m \u001b[49m\u001b[43mdf\u001b[49m\u001b[43m)\u001b[49m\n",
      "File \u001b[1;32mc:\\Users\\vzelikova\\learning\\airflow\\venv1\\Lib\\site-packages\\deltalake\\writer.py:324\u001b[0m, in \u001b[0;36mwrite_deltalake\u001b[1;34m(table_or_uri, data, schema, partition_by, mode, file_options, max_partitions, max_open_files, max_rows_per_file, min_rows_per_group, max_rows_per_group, name, description, configuration, schema_mode, storage_options, partition_filters, predicate, target_file_size, large_dtypes, engine, writer_properties, custom_metadata, post_commithook_properties, commit_properties)\u001b[0m\n\u001b[0;32m    322\u001b[0m data \u001b[38;5;241m=\u001b[39m RecordBatchReader\u001b[38;5;241m.\u001b[39mfrom_batches(schema, (batch \u001b[38;5;28;01mfor\u001b[39;00m batch \u001b[38;5;129;01min\u001b[39;00m data))\n\u001b[0;32m    323\u001b[0m \u001b[38;5;28;01mif\u001b[39;00m table:\n\u001b[1;32m--> 324\u001b[0m     \u001b[43mtable\u001b[49m\u001b[38;5;241;43m.\u001b[39;49m\u001b[43m_table\u001b[49m\u001b[38;5;241;43m.\u001b[39;49m\u001b[43mwrite\u001b[49m\u001b[43m(\u001b[49m\n\u001b[0;32m    325\u001b[0m \u001b[43m        \u001b[49m\u001b[43mdata\u001b[49m\u001b[38;5;241;43m=\u001b[39;49m\u001b[43mdata\u001b[49m\u001b[43m,\u001b[49m\n\u001b[0;32m    326\u001b[0m \u001b[43m        \u001b[49m\u001b[43mpartition_by\u001b[49m\u001b[38;5;241;43m=\u001b[39;49m\u001b[43mpartition_by\u001b[49m\u001b[43m,\u001b[49m\n\u001b[0;32m    327\u001b[0m \u001b[43m        \u001b[49m\u001b[43mmode\u001b[49m\u001b[38;5;241;43m=\u001b[39;49m\u001b[43mmode\u001b[49m\u001b[43m,\u001b[49m\n\u001b[0;32m    328\u001b[0m \u001b[43m        \u001b[49m\u001b[43mschema_mode\u001b[49m\u001b[38;5;241;43m=\u001b[39;49m\u001b[43mschema_mode\u001b[49m\u001b[43m,\u001b[49m\n\u001b[0;32m    329\u001b[0m \u001b[43m        \u001b[49m\u001b[43mpredicate\u001b[49m\u001b[38;5;241;43m=\u001b[39;49m\u001b[43mpredicate\u001b[49m\u001b[43m,\u001b[49m\n\u001b[0;32m    330\u001b[0m \u001b[43m        \u001b[49m\u001b[43mtarget_file_size\u001b[49m\u001b[38;5;241;43m=\u001b[39;49m\u001b[43mtarget_file_size\u001b[49m\u001b[43m,\u001b[49m\n\u001b[0;32m    331\u001b[0m \u001b[43m        \u001b[49m\u001b[43mname\u001b[49m\u001b[38;5;241;43m=\u001b[39;49m\u001b[43mname\u001b[49m\u001b[43m,\u001b[49m\n\u001b[0;32m    332\u001b[0m \u001b[43m        \u001b[49m\u001b[43mdescription\u001b[49m\u001b[38;5;241;43m=\u001b[39;49m\u001b[43mdescription\u001b[49m\u001b[43m,\u001b[49m\n\u001b[0;32m    333\u001b[0m \u001b[43m        \u001b[49m\u001b[43mconfiguration\u001b[49m\u001b[38;5;241;43m=\u001b[39;49m\u001b[43mconfiguration\u001b[49m\u001b[43m,\u001b[49m\n\u001b[0;32m    334\u001b[0m \u001b[43m        \u001b[49m\u001b[43mwriter_properties\u001b[49m\u001b[38;5;241;43m=\u001b[39;49m\u001b[43mwriter_properties\u001b[49m\u001b[43m,\u001b[49m\n\u001b[0;32m    335\u001b[0m \u001b[43m        \u001b[49m\u001b[43mcommit_properties\u001b[49m\u001b[38;5;241;43m=\u001b[39;49m\u001b[43mcommit_properties\u001b[49m\u001b[43m,\u001b[49m\n\u001b[0;32m    336\u001b[0m \u001b[43m        \u001b[49m\u001b[43mpost_commithook_properties\u001b[49m\u001b[38;5;241;43m=\u001b[39;49m\u001b[43mpost_commithook_properties\u001b[49m\u001b[43m,\u001b[49m\n\u001b[0;32m    337\u001b[0m \u001b[43m    \u001b[49m\u001b[43m)\u001b[49m\n\u001b[0;32m    338\u001b[0m \u001b[38;5;28;01melse\u001b[39;00m:\n\u001b[0;32m    339\u001b[0m     write_deltalake_rust(\n\u001b[0;32m    340\u001b[0m         table_uri\u001b[38;5;241m=\u001b[39mtable_uri,\n\u001b[0;32m    341\u001b[0m         data\u001b[38;5;241m=\u001b[39mdata,\n\u001b[1;32m   (...)\u001b[0m\n\u001b[0;32m    353\u001b[0m         post_commithook_properties\u001b[38;5;241m=\u001b[39mpost_commithook_properties,\n\u001b[0;32m    354\u001b[0m     )\n",
      "\u001b[1;31mDeltaError\u001b[0m: Generic error: A table already exists at: C:/Users/vzelikova/learning/airflow/dags/third/output/delta_tables/test_table/"
     ]
    }
   ],
   "source": [
    "# Запишем df в delta lake файл\n",
    "write_deltalake(path_to_test_table, df)"
   ]
  },
  {
   "cell_type": "code",
   "execution_count": 11,
   "id": "90c6fe72",
   "metadata": {},
   "outputs": [
    {
     "data": {
      "text/html": [
       "<div>\n",
       "<style scoped>\n",
       "    .dataframe tbody tr th:only-of-type {\n",
       "        vertical-align: middle;\n",
       "    }\n",
       "\n",
       "    .dataframe tbody tr th {\n",
       "        vertical-align: top;\n",
       "    }\n",
       "\n",
       "    .dataframe thead th {\n",
       "        text-align: right;\n",
       "    }\n",
       "</style>\n",
       "<table border=\"1\" class=\"dataframe\">\n",
       "  <thead>\n",
       "    <tr style=\"text-align: right;\">\n",
       "      <th></th>\n",
       "      <th>x</th>\n",
       "    </tr>\n",
       "  </thead>\n",
       "  <tbody>\n",
       "    <tr>\n",
       "      <th>0</th>\n",
       "      <td>8</td>\n",
       "    </tr>\n",
       "    <tr>\n",
       "      <th>1</th>\n",
       "      <td>9</td>\n",
       "    </tr>\n",
       "    <tr>\n",
       "      <th>2</th>\n",
       "      <td>10</td>\n",
       "    </tr>\n",
       "    <tr>\n",
       "      <th>3</th>\n",
       "      <td>1</td>\n",
       "    </tr>\n",
       "    <tr>\n",
       "      <th>4</th>\n",
       "      <td>2</td>\n",
       "    </tr>\n",
       "    <tr>\n",
       "      <th>5</th>\n",
       "      <td>3</td>\n",
       "    </tr>\n",
       "  </tbody>\n",
       "</table>\n",
       "</div>"
      ],
      "text/plain": [
       "    x\n",
       "0   8\n",
       "1   9\n",
       "2  10\n",
       "3   1\n",
       "4   2\n",
       "5   3"
      ]
     },
     "execution_count": 11,
     "metadata": {},
     "output_type": "execute_result"
    }
   ],
   "source": [
    "# Вытащим данные из delta lake файла\n",
    "df1 = DeltaTable(path_to_test_table).to_pandas()\n",
    "df1"
   ]
  },
  {
   "cell_type": "code",
   "execution_count": null,
   "id": "d4749185",
   "metadata": {},
   "outputs": [],
   "source": [
    "# Добавим (append-ом) новые данные в нашу тестовую delta lake таблицу\n",
    "df2 = pd.DataFrame({\"x\": [8, 9, 10]})\n",
    "write_deltalake(path_to_test_table, df2, mode=\"append\")"
   ]
  },
  {
   "cell_type": "code",
   "execution_count": null,
   "id": "ee71b710",
   "metadata": {},
   "outputs": [
    {
     "data": {
      "text/html": [
       "<div>\n",
       "<style scoped>\n",
       "    .dataframe tbody tr th:only-of-type {\n",
       "        vertical-align: middle;\n",
       "    }\n",
       "\n",
       "    .dataframe tbody tr th {\n",
       "        vertical-align: top;\n",
       "    }\n",
       "\n",
       "    .dataframe thead th {\n",
       "        text-align: right;\n",
       "    }\n",
       "</style>\n",
       "<table border=\"1\" class=\"dataframe\">\n",
       "  <thead>\n",
       "    <tr style=\"text-align: right;\">\n",
       "      <th></th>\n",
       "      <th>x</th>\n",
       "    </tr>\n",
       "  </thead>\n",
       "  <tbody>\n",
       "    <tr>\n",
       "      <th>0</th>\n",
       "      <td>8</td>\n",
       "    </tr>\n",
       "    <tr>\n",
       "      <th>1</th>\n",
       "      <td>9</td>\n",
       "    </tr>\n",
       "    <tr>\n",
       "      <th>2</th>\n",
       "      <td>10</td>\n",
       "    </tr>\n",
       "    <tr>\n",
       "      <th>3</th>\n",
       "      <td>1</td>\n",
       "    </tr>\n",
       "    <tr>\n",
       "      <th>4</th>\n",
       "      <td>2</td>\n",
       "    </tr>\n",
       "    <tr>\n",
       "      <th>5</th>\n",
       "      <td>3</td>\n",
       "    </tr>\n",
       "  </tbody>\n",
       "</table>\n",
       "</div>"
      ],
      "text/plain": [
       "    x\n",
       "0   8\n",
       "1   9\n",
       "2  10\n",
       "3   1\n",
       "4   2\n",
       "5   3"
      ]
     },
     "execution_count": 10,
     "metadata": {},
     "output_type": "execute_result"
    }
   ],
   "source": [
    "DeltaTable(path_to_test_table).to_pandas()"
   ]
  },
  {
   "cell_type": "code",
   "execution_count": null,
   "id": "505e6993",
   "metadata": {},
   "outputs": [
    {
     "data": {
      "text/html": [
       "<div>\n",
       "<style scoped>\n",
       "    .dataframe tbody tr th:only-of-type {\n",
       "        vertical-align: middle;\n",
       "    }\n",
       "\n",
       "    .dataframe tbody tr th {\n",
       "        vertical-align: top;\n",
       "    }\n",
       "\n",
       "    .dataframe thead th {\n",
       "        text-align: right;\n",
       "    }\n",
       "</style>\n",
       "<table border=\"1\" class=\"dataframe\">\n",
       "  <thead>\n",
       "    <tr style=\"text-align: right;\">\n",
       "      <th></th>\n",
       "      <th>x</th>\n",
       "    </tr>\n",
       "  </thead>\n",
       "  <tbody>\n",
       "    <tr>\n",
       "      <th>0</th>\n",
       "      <td>1</td>\n",
       "    </tr>\n",
       "    <tr>\n",
       "      <th>1</th>\n",
       "      <td>2</td>\n",
       "    </tr>\n",
       "    <tr>\n",
       "      <th>2</th>\n",
       "      <td>3</td>\n",
       "    </tr>\n",
       "  </tbody>\n",
       "</table>\n",
       "</div>"
      ],
      "text/plain": [
       "   x\n",
       "0  1\n",
       "1  2\n",
       "2  3"
      ]
     },
     "execution_count": 11,
     "metadata": {},
     "output_type": "execute_result"
    }
   ],
   "source": [
    "# При этом старая версия также доступна\n",
    "DeltaTable(path_to_test_table, version=0).to_pandas()"
   ]
  },
  {
   "cell_type": "markdown",
   "id": "8a266ccf",
   "metadata": {},
   "source": [
    "Теперь проверим на реальных данных"
   ]
  },
  {
   "cell_type": "code",
   "execution_count": 12,
   "id": "7200ac69",
   "metadata": {},
   "outputs": [],
   "source": [
    "# Путь до входных файлов\n",
    "INPUT_PATH = os.path.join(\"input\", \"data\")\n",
    "my_csv_file_path = os.path.join(INPUT_PATH, \"requests_data_bad.csv\")\n",
    "# Путь до delta lake таблицы\n",
    "csv_table_path = os.path.join(PATH_TO_DELTA_TABLES, \"csv_table\")"
   ]
  },
  {
   "cell_type": "code",
   "execution_count": null,
   "id": "5d2853f0",
   "metadata": {},
   "outputs": [
    {
     "data": {
      "text/html": [
       "<div>\n",
       "<style scoped>\n",
       "    .dataframe tbody tr th:only-of-type {\n",
       "        vertical-align: middle;\n",
       "    }\n",
       "\n",
       "    .dataframe tbody tr th {\n",
       "        vertical-align: top;\n",
       "    }\n",
       "\n",
       "    .dataframe thead th {\n",
       "        text-align: right;\n",
       "    }\n",
       "</style>\n",
       "<table border=\"1\" class=\"dataframe\">\n",
       "  <thead>\n",
       "    <tr style=\"text-align: right;\">\n",
       "      <th></th>\n",
       "      <th>requester_id</th>\n",
       "      <th>accepter_id</th>\n",
       "      <th>accept_date</th>\n",
       "    </tr>\n",
       "  </thead>\n",
       "  <tbody>\n",
       "    <tr>\n",
       "      <th>0</th>\n",
       "      <td>4</td>\n",
       "      <td>9</td>\n",
       "      <td>2024-04-05</td>\n",
       "    </tr>\n",
       "    <tr>\n",
       "      <th>1</th>\n",
       "      <td>18</td>\n",
       "      <td>26</td>\n",
       "      <td>2024-09-24</td>\n",
       "    </tr>\n",
       "    <tr>\n",
       "      <th>2</th>\n",
       "      <td>7</td>\n",
       "      <td>26</td>\n",
       "      <td>2024-06-02</td>\n",
       "    </tr>\n",
       "    <tr>\n",
       "      <th>3</th>\n",
       "      <td>17</td>\n",
       "      <td>3</td>\n",
       "      <td>2024-02-09</td>\n",
       "    </tr>\n",
       "    <tr>\n",
       "      <th>4</th>\n",
       "      <td>17</td>\n",
       "      <td>12</td>\n",
       "      <td>2024-07-02</td>\n",
       "    </tr>\n",
       "  </tbody>\n",
       "</table>\n",
       "</div>"
      ],
      "text/plain": [
       "   requester_id  accepter_id accept_date\n",
       "0             4            9  2024-04-05\n",
       "1            18           26  2024-09-24\n",
       "2             7           26  2024-06-02\n",
       "3            17            3  2024-02-09\n",
       "4            17           12  2024-07-02"
      ]
     },
     "execution_count": 13,
     "metadata": {},
     "output_type": "execute_result"
    }
   ],
   "source": [
    "df = pd.read_csv(my_csv_file_path)\n",
    "df.head()"
   ]
  },
  {
   "cell_type": "code",
   "execution_count": null,
   "id": "947b447c",
   "metadata": {},
   "outputs": [],
   "source": [
    "write_deltalake(csv_table_path, df)"
   ]
  },
  {
   "cell_type": "code",
   "execution_count": null,
   "id": "4a745ee7",
   "metadata": {},
   "outputs": [
    {
     "data": {
      "text/html": [
       "<div>\n",
       "<style scoped>\n",
       "    .dataframe tbody tr th:only-of-type {\n",
       "        vertical-align: middle;\n",
       "    }\n",
       "\n",
       "    .dataframe tbody tr th {\n",
       "        vertical-align: top;\n",
       "    }\n",
       "\n",
       "    .dataframe thead th {\n",
       "        text-align: right;\n",
       "    }\n",
       "</style>\n",
       "<table border=\"1\" class=\"dataframe\">\n",
       "  <thead>\n",
       "    <tr style=\"text-align: right;\">\n",
       "      <th></th>\n",
       "      <th>requester_id</th>\n",
       "      <th>accepter_id</th>\n",
       "      <th>accept_date</th>\n",
       "    </tr>\n",
       "  </thead>\n",
       "  <tbody>\n",
       "    <tr>\n",
       "      <th>0</th>\n",
       "      <td>4</td>\n",
       "      <td>9</td>\n",
       "      <td>2024-04-05</td>\n",
       "    </tr>\n",
       "    <tr>\n",
       "      <th>1</th>\n",
       "      <td>18</td>\n",
       "      <td>26</td>\n",
       "      <td>2024-09-24</td>\n",
       "    </tr>\n",
       "    <tr>\n",
       "      <th>2</th>\n",
       "      <td>7</td>\n",
       "      <td>26</td>\n",
       "      <td>2024-06-02</td>\n",
       "    </tr>\n",
       "    <tr>\n",
       "      <th>3</th>\n",
       "      <td>17</td>\n",
       "      <td>3</td>\n",
       "      <td>2024-02-09</td>\n",
       "    </tr>\n",
       "    <tr>\n",
       "      <th>4</th>\n",
       "      <td>17</td>\n",
       "      <td>12</td>\n",
       "      <td>2024-07-02</td>\n",
       "    </tr>\n",
       "    <tr>\n",
       "      <th>...</th>\n",
       "      <td>...</td>\n",
       "      <td>...</td>\n",
       "      <td>...</td>\n",
       "    </tr>\n",
       "    <tr>\n",
       "      <th>195</th>\n",
       "      <td>30</td>\n",
       "      <td>25</td>\n",
       "      <td>2024-04-06</td>\n",
       "    </tr>\n",
       "    <tr>\n",
       "      <th>196</th>\n",
       "      <td>9</td>\n",
       "      <td>24</td>\n",
       "      <td>2024-08-02</td>\n",
       "    </tr>\n",
       "    <tr>\n",
       "      <th>197</th>\n",
       "      <td>13</td>\n",
       "      <td>6</td>\n",
       "      <td>2024-04-04</td>\n",
       "    </tr>\n",
       "    <tr>\n",
       "      <th>198</th>\n",
       "      <td>11</td>\n",
       "      <td>21</td>\n",
       "      <td>2024-10-13</td>\n",
       "    </tr>\n",
       "    <tr>\n",
       "      <th>199</th>\n",
       "      <td>26</td>\n",
       "      <td>12</td>\n",
       "      <td>2024-08-18</td>\n",
       "    </tr>\n",
       "  </tbody>\n",
       "</table>\n",
       "<p>200 rows × 3 columns</p>\n",
       "</div>"
      ],
      "text/plain": [
       "     requester_id  accepter_id accept_date\n",
       "0               4            9  2024-04-05\n",
       "1              18           26  2024-09-24\n",
       "2               7           26  2024-06-02\n",
       "3              17            3  2024-02-09\n",
       "4              17           12  2024-07-02\n",
       "..            ...          ...         ...\n",
       "195            30           25  2024-04-06\n",
       "196             9           24  2024-08-02\n",
       "197            13            6  2024-04-04\n",
       "198            11           21  2024-10-13\n",
       "199            26           12  2024-08-18\n",
       "\n",
       "[200 rows x 3 columns]"
      ]
     },
     "execution_count": 17,
     "metadata": {},
     "output_type": "execute_result"
    }
   ],
   "source": [
    "DeltaTable(csv_table_path).to_pandas()"
   ]
  },
  {
   "cell_type": "markdown",
   "id": "f9165eda",
   "metadata": {},
   "source": [
    "# Тестим duckdb"
   ]
  },
  {
   "cell_type": "code",
   "execution_count": 14,
   "id": "ebf5f6a1",
   "metadata": {},
   "outputs": [],
   "source": [
    "import duckdb"
   ]
  },
  {
   "cell_type": "code",
   "execution_count": 15,
   "id": "94ebf8fe",
   "metadata": {},
   "outputs": [],
   "source": [
    "# Переменные\n",
    "my_csv_file_path\n",
    "errors_file_path = os.path.join(INPUT_PATH, 'errors.txt')"
   ]
  },
  {
   "cell_type": "code",
   "execution_count": 16,
   "id": "bfeec94f",
   "metadata": {},
   "outputs": [],
   "source": [
    "# Создаем in-memory соединение\n",
    "con = duckdb.connect()"
   ]
  },
  {
   "cell_type": "code",
   "execution_count": 17,
   "id": "142d4841",
   "metadata": {},
   "outputs": [],
   "source": [
    "# Создаем таблицу для данных из csv файла\n",
    "query = f\"\"\"\n",
    "    CREATE TABLE tmp_request_accepted AS\n",
    "    SELECT * FROM '{my_csv_file_path}';\n",
    "    \"\"\"\n",
    "con.sql(query)\n"
   ]
  },
  {
   "cell_type": "code",
   "execution_count": 18,
   "id": "1bb9f3a6",
   "metadata": {},
   "outputs": [
    {
     "name": "stdout",
     "output_type": "stream",
     "text": [
      "┌──────────────┬─────────────┬─────────────┐\n",
      "│ requester_id │ accepter_id │ accept_date │\n",
      "│    int64     │    int64    │    date     │\n",
      "├──────────────┼─────────────┼─────────────┤\n",
      "│            4 │           9 │ 2024-04-05  │\n",
      "│           18 │          26 │ 2024-09-24  │\n",
      "│            7 │          26 │ 2024-06-02  │\n",
      "│           17 │           3 │ 2024-02-09  │\n",
      "│           17 │          12 │ 2024-07-02  │\n",
      "│           30 │           9 │ 2024-08-19  │\n",
      "│           11 │           5 │ 2024-01-22  │\n",
      "│           28 │          21 │ 2024-01-17  │\n",
      "│            3 │          22 │ 2024-04-03  │\n",
      "│           14 │          22 │ 2024-04-19  │\n",
      "│            · │           · │     ·       │\n",
      "│            · │           · │     ·       │\n",
      "│            · │           · │     ·       │\n",
      "│           17 │          19 │ 2024-07-20  │\n",
      "│            9 │          15 │ 2024-10-23  │\n",
      "│           11 │          12 │ 2024-04-14  │\n",
      "│            2 │           9 │ 2024-06-16  │\n",
      "│           19 │          25 │ 2024-10-21  │\n",
      "│           30 │          25 │ 2024-04-06  │\n",
      "│            9 │          24 │ 2024-08-02  │\n",
      "│           13 │           6 │ 2024-04-04  │\n",
      "│           11 │          21 │ 2024-10-13  │\n",
      "│           26 │          12 │ 2024-08-18  │\n",
      "├──────────────┴─────────────┴─────────────┤\n",
      "│ 200 rows (20 shown)            3 columns │\n",
      "└──────────────────────────────────────────┘\n",
      "\n"
     ]
    }
   ],
   "source": [
    "# Посмотрим на таблицу\n",
    "con.sql(\n",
    "    \"SELECT * FROM tmp_request_accepted\"\n",
    ").show()"
   ]
  },
  {
   "cell_type": "markdown",
   "id": "2d6c6fe6",
   "metadata": {},
   "source": [
    "Создадим таблицу для ошибочных id (error_ids)"
   ]
  },
  {
   "cell_type": "code",
   "execution_count": 19,
   "id": "504e9fe9",
   "metadata": {},
   "outputs": [
    {
     "data": {
      "text/html": [
       "<div>\n",
       "<style scoped>\n",
       "    .dataframe tbody tr th:only-of-type {\n",
       "        vertical-align: middle;\n",
       "    }\n",
       "\n",
       "    .dataframe tbody tr th {\n",
       "        vertical-align: top;\n",
       "    }\n",
       "\n",
       "    .dataframe thead th {\n",
       "        text-align: right;\n",
       "    }\n",
       "</style>\n",
       "<table border=\"1\" class=\"dataframe\">\n",
       "  <thead>\n",
       "    <tr style=\"text-align: right;\">\n",
       "      <th></th>\n",
       "      <th>0</th>\n",
       "    </tr>\n",
       "  </thead>\n",
       "  <tbody>\n",
       "    <tr>\n",
       "      <th>0</th>\n",
       "      <td>6</td>\n",
       "    </tr>\n",
       "    <tr>\n",
       "      <th>1</th>\n",
       "      <td>17</td>\n",
       "    </tr>\n",
       "    <tr>\n",
       "      <th>2</th>\n",
       "      <td>19</td>\n",
       "    </tr>\n",
       "    <tr>\n",
       "      <th>3</th>\n",
       "      <td>22</td>\n",
       "    </tr>\n",
       "    <tr>\n",
       "      <th>4</th>\n",
       "      <td>12</td>\n",
       "    </tr>\n",
       "  </tbody>\n",
       "</table>\n",
       "</div>"
      ],
      "text/plain": [
       "    0\n",
       "0   6\n",
       "1  17\n",
       "2  19\n",
       "3  22\n",
       "4  12"
      ]
     },
     "execution_count": 19,
     "metadata": {},
     "output_type": "execute_result"
    }
   ],
   "source": [
    "# Это мне не надо, но оставлю тут на всякий\n",
    "# Сначала считаем txt в dataframe\n",
    "errors = pd.read_csv(errors_file_path, header=None)\n",
    "errors"
   ]
  },
  {
   "cell_type": "code",
   "execution_count": 20,
   "id": "1af0fdb7",
   "metadata": {},
   "outputs": [],
   "source": [
    "# Создаем структуру таблицы\n",
    "con.sql(\n",
    "    \"\"\"\n",
    "    CREATE TABLE error_ids (\n",
    "        error_id integer\n",
    "    )\n",
    "    \"\"\"\n",
    ")"
   ]
  },
  {
   "cell_type": "code",
   "execution_count": 21,
   "id": "c97ffe83",
   "metadata": {},
   "outputs": [],
   "source": [
    "# Вставляем значения из файла errors.txt\n",
    "query = f\"\"\"\n",
    "    INSERT INTO error_ids\n",
    "    SELECT * FROM read_csv('{errors_file_path}', header = false);\n",
    "    \"\"\"\n",
    "con.sql(query)"
   ]
  },
  {
   "cell_type": "code",
   "execution_count": 22,
   "id": "4d56d3c8",
   "metadata": {},
   "outputs": [
    {
     "name": "stdout",
     "output_type": "stream",
     "text": [
      "┌──────────┐\n",
      "│ error_id │\n",
      "│  int32   │\n",
      "├──────────┤\n",
      "│        6 │\n",
      "│       17 │\n",
      "│       19 │\n",
      "│       22 │\n",
      "│       12 │\n",
      "└──────────┘\n",
      "\n"
     ]
    }
   ],
   "source": [
    "# Посмотрим на полученную таблицу\n",
    "con.sql(\"SELECT * FROM error_ids\").show()"
   ]
  },
  {
   "cell_type": "markdown",
   "id": "091789b7",
   "metadata": {},
   "source": [
    "Выполняем скрипт для очистки данных"
   ]
  },
  {
   "cell_type": "code",
   "execution_count": 25,
   "id": "2df0ed30",
   "metadata": {},
   "outputs": [],
   "source": [
    "# Переменные\n",
    "sql_scripts_path = os.path.join('input', 'sql')\n",
    "data_cleansing_script_path = os.path.join(sql_scripts_path, 'data_cleansing.sql')"
   ]
  },
  {
   "cell_type": "code",
   "execution_count": null,
   "id": "cb03c084",
   "metadata": {},
   "outputs": [],
   "source": [
    "# Читаем файл с sql скриптом\n",
    "with open(data_cleansing_script_path) as data:\n",
    "    query = data.read()"
   ]
  },
  {
   "cell_type": "code",
   "execution_count": 27,
   "id": "22c1d544",
   "metadata": {},
   "outputs": [
    {
     "ename": "BinderException",
     "evalue": "Binder Error: Referenced column \"ctid\" not found in FROM clause!\nCandidate bindings: \"accept_date\", \"accepter_id\"",
     "output_type": "error",
     "traceback": [
      "\u001b[1;31m---------------------------------------------------------------------------\u001b[0m",
      "\u001b[1;31mBinderException\u001b[0m                           Traceback (most recent call last)",
      "Cell \u001b[1;32mIn[27], line 2\u001b[0m\n\u001b[0;32m      1\u001b[0m \u001b[38;5;66;03m# Выполняем запрос\u001b[39;00m\n\u001b[1;32m----> 2\u001b[0m \u001b[43mcon\u001b[49m\u001b[38;5;241;43m.\u001b[39;49m\u001b[43msql\u001b[49m\u001b[43m(\u001b[49m\u001b[43mquery\u001b[49m\u001b[43m)\u001b[49m\n",
      "\u001b[1;31mBinderException\u001b[0m: Binder Error: Referenced column \"ctid\" not found in FROM clause!\nCandidate bindings: \"accept_date\", \"accepter_id\""
     ]
    }
   ],
   "source": [
    "# Выполняем запрос\n",
    "con.sql(query)"
   ]
  },
  {
   "cell_type": "code",
   "execution_count": 71,
   "id": "c28c688c",
   "metadata": {},
   "outputs": [],
   "source": [
    "# Закрытие соединения\n",
    "con.close()"
   ]
  }
 ],
 "metadata": {
  "kernelspec": {
   "display_name": "venv1",
   "language": "python",
   "name": "python3"
  },
  "language_info": {
   "codemirror_mode": {
    "name": "ipython",
    "version": 3
   },
   "file_extension": ".py",
   "mimetype": "text/x-python",
   "name": "python",
   "nbconvert_exporter": "python",
   "pygments_lexer": "ipython3",
   "version": "3.11.0"
  }
 },
 "nbformat": 4,
 "nbformat_minor": 5
}
