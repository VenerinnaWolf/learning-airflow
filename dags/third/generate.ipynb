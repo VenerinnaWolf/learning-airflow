{
 "cells": [
  {
   "cell_type": "markdown",
   "id": "f77302cd",
   "metadata": {},
   "source": [
    "# Генерация входных данных"
   ]
  },
  {
   "cell_type": "markdown",
   "id": "3e4af237",
   "metadata": {},
   "source": [
    "Подключем необходимые библиотеки. Для генерации parquet файлов там также потребуется установленная библиотека `pyarrow`  \n",
    "```bash\n",
    "pip install pyarrow\n",
    "```"
   ]
  },
  {
   "cell_type": "code",
   "execution_count": 5,
   "id": "a1afa75e",
   "metadata": {},
   "outputs": [],
   "source": [
    "# Подключаем нужные нам библиотеки\n",
    "import csv\n",
    "import random\n",
    "import pandas as pd\n",
    "from datetime import datetime, timedelta"
   ]
  },
  {
   "cell_type": "markdown",
   "id": "fe17b33f",
   "metadata": {},
   "source": [
    "## Структура данных\n",
    "Что за данные мы будем генерировать?\n",
    "\n",
    "Таблица запросов пользователей в друзья. В этой таблице содержится идентификатор пользователя, отправившего запрос, идентификатор пользователя, получившего запрос, и дата принятия запроса.\n",
    "\n",
    "Таблица должна иметь вид:\n",
    "\n",
    "| Column Name    | Type    |\n",
    "|----------------|---------|\n",
    "| requester_id   | int     |\n",
    "| accepter_id    | int     |\n",
    "| accept_date    | date    |\n",
    "\n",
    "Пара `(requester_id, accepter_id)` - уникальный первичный ключ. Первичные ключи не должны повторяться, а также не может быть \"обратных пар\" (`(accepter_id, requester_id)` при существующей паре `(requester_id, accepter_id)`)"
   ]
  },
  {
   "cell_type": "markdown",
   "id": "f8383436",
   "metadata": {},
   "source": [
    "## Генерация csv\n",
    "Генерировать будем безо всяких условий (то есть, у нас могут быть ошибки в дублирующихся первичных ключах и в обратных парах)"
   ]
  },
  {
   "cell_type": "code",
   "execution_count": null,
   "id": "6b81a3a6",
   "metadata": {},
   "outputs": [],
   "source": [
    "num_rows = 200  # количество строк данных\n",
    "num_users = 30  # количество уникальных пользователей\n",
    "\n",
    "# Генерируем пары (requester_id, accepter_id)\n",
    "pairs = set()\n",
    "\n",
    "while len(pairs) < num_rows:\n",
    "    requester = random.randint(1, num_users)\n",
    "    accepter = random.randint(1, num_users)\n",
    "    # Не добавляем проверок\n",
    "    # if requester != accepter:\n",
    "    # pair = (requester, accepter)\n",
    "    # reverse_pair = (accepter, requester)\n",
    "    # if pair not in pairs and reverse_pair not in pairs:\n",
    "    #     pairs.add(pair)\n",
    "    pair = (requester, accepter)\n",
    "    pairs.add(pair)\n",
    "\n",
    "# Генерируем случайные даты в диапазоне за 2024 год\n",
    "start_date = datetime(2024, 1, 1)\n",
    "dates = [start_date + timedelta(days=random.randint(0, 365)) for _ in range(num_rows)]\n",
    "\n",
    "# Записываем в CSV файл\n",
    "with open('input/requests_data_bad.csv', 'w', newline='') as csvfile:\n",
    "    writer = csv.writer(csvfile)\n",
    "    writer.writerow(['requester_id', 'accepter_id', 'accept_date'])\n",
    "    for i in range(num_rows):\n",
    "        pair = pairs.pop()\n",
    "        date = dates[i]\n",
    "        writer.writerow([pair[0], pair[1], date.date().isoformat()])"
   ]
  },
  {
   "cell_type": "markdown",
   "id": "88d90472",
   "metadata": {},
   "source": [
    "## Генерация parquet\n",
    "Теперь сгенерируем то же самое, но для parquet файла"
   ]
  },
  {
   "cell_type": "code",
   "execution_count": null,
   "id": "fb638b9d",
   "metadata": {},
   "outputs": [],
   "source": [
    "import pandas as pd\n",
    "\n",
    "num_rows = 200  # количество строк данных\n",
    "\n",
    "# Генерация пар (requester_id, accepter_id)\n",
    "pairs = set()\n",
    "\n",
    "while len(pairs) < num_rows:\n",
    "    requester = random.randint(1, num_users)\n",
    "    accepter = random.randint(1, num_users)\n",
    "    pair = (requester, accepter)\n",
    "    pairs.add(pair)\n",
    "\n",
    "# Генерируем случайные даты в диапазоне за 2024 год\n",
    "start_date = datetime(2024, 1, 1)\n",
    "dates = [start_date + timedelta(days=random.randint(0, 365)) for _ in range(num_rows)]\n",
    "\n",
    "# Создание DataFrame\n",
    "data = {\n",
    "    'requester_id': [pair[0] for pair in pairs],\n",
    "    'accepter_id': [pair[1] for pair in pairs],\n",
    "    'accept_date': [date.date().isoformat() for date in dates]\n",
    "}\n",
    "\n",
    "df = pd.DataFrame(data)\n",
    "\n",
    "# Сохранение в Parquet файл\n",
    "df.to_parquet('input/requests_data_bad.parquet', index=False)"
   ]
  },
  {
   "cell_type": "markdown",
   "id": "a58c06c8",
   "metadata": {},
   "source": [
    "## Генерация errors.txt\n",
    "Генерируем файл errors.txt, в котором содержатся \"ошибочные\" id, которые будут удаляться из итогового набора данных"
   ]
  },
  {
   "cell_type": "code",
   "execution_count": null,
   "id": "356f62fe",
   "metadata": {},
   "outputs": [],
   "source": [
    "errors_num = 5  # количество ошибочных id\n",
    "\n",
    "# Генерируем список из случайных номеров в пределах от 1 до num_users\n",
    "errors = random.sample(range(1, num_users), errors_num)\n",
    "\n",
    "# Сохраняем в файл\n",
    "with open('input/errors.txt', 'w') as file:\n",
    "    file.write('\\n'.join(map(str, errors)))"
   ]
  }
 ],
 "metadata": {
  "kernelspec": {
   "display_name": "venv1",
   "language": "python",
   "name": "python3"
  },
  "language_info": {
   "codemirror_mode": {
    "name": "ipython",
    "version": 3
   },
   "file_extension": ".py",
   "mimetype": "text/x-python",
   "name": "python",
   "nbconvert_exporter": "python",
   "pygments_lexer": "ipython3",
   "version": "3.11.0"
  }
 },
 "nbformat": 4,
 "nbformat_minor": 5
}
